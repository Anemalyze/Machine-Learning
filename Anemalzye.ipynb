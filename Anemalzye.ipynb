{
  "nbformat": 4,
  "nbformat_minor": 0,
  "metadata": {
    "colab": {
      "provenance": []
    },
    "kernelspec": {
      "name": "python3",
      "display_name": "Python 3"
    },
    "language_info": {
      "name": "python"
    }
  },
  "cells": [
    {
      "cell_type": "markdown",
      "source": [
        "# **Import Libraries**"
      ],
      "metadata": {
        "id": "EXQrcJIf-Neh"
      }
    },
    {
      "cell_type": "code",
      "source": [
        "import os\n",
        "import cv2\n",
        "import shutil\n",
        "import random\n",
        "import numpy as np\n",
        "import seaborn as sns\n",
        "import tensorflow as tf\n",
        "from tensorflow import keras\n",
        "from tensorflow.keras.preprocessing.image import ImageDataGenerator\n",
        "from sklearn.metrics import roc_auc_score, balanced_accuracy_score\n",
        "from tensorflow.keras.models import Sequential\n",
        "from tensorflow.keras.layers import Dense, Flatten, GlobalAveragePooling2D, Conv2D, MaxPooling2D, Dropout, Input\n",
        "from tensorflow.keras.optimizers import Adam\n",
        "from tensorflow.keras.callbacks import EarlyStopping\n",
        "import matplotlib.pyplot as plt\n",
        "from tensorflow.keras.applications import MobileNetV2\n",
        "from sklearn.metrics import classification_report,confusion_matrix,accuracy_score\n",
        "import warnings\n",
        "warnings.filterwarnings('ignore')\n",
        "from sklearn.utils import class_weight\n",
        "from sklearn.metrics import precision_recall_curve"
      ],
      "metadata": {
        "id": "FadmoRFg-UHd"
      },
      "execution_count": 32,
      "outputs": []
    },
    {
      "cell_type": "markdown",
      "source": [
        "# **Preparing Dataset**"
      ],
      "metadata": {
        "id": "AzM4lrM_cGly"
      }
    },
    {
      "cell_type": "code",
      "execution_count": 2,
      "metadata": {
        "id": "xWyf-aOrVnWH",
        "colab": {
          "base_uri": "https://localhost:8080/"
        },
        "outputId": "1da0089a-e2ab-4596-9462-02c7656542fb"
      },
      "outputs": [
        {
          "output_type": "stream",
          "name": "stderr",
          "text": [
            "WARNING:tensorflow:From <ipython-input-2-1c336d1522d8>:4: is_gpu_available (from tensorflow.python.framework.test_util) is deprecated and will be removed in a future version.\n",
            "Instructions for updating:\n",
            "Use `tf.config.list_physical_devices('GPU')` instead.\n"
          ]
        },
        {
          "output_type": "stream",
          "name": "stdout",
          "text": [
            "Mounted at /content/drive\n",
            "GPU Available:  False\n"
          ]
        }
      ],
      "source": [
        "import tensorflow as tf\n",
        "from google.colab import drive\n",
        "drive.mount('/content/drive')\n",
        "print(\"GPU Available: \", tf.test.is_gpu_available())"
      ]
    },
    {
      "cell_type": "code",
      "source": [
        "import os\n",
        "import cv2\n",
        "\n",
        "input_folder = \"/content/drive/MyDrive/conjuctiva\"\n",
        "output_folder = \"/content/drive/MyDrive/conjuctiva224\"\n",
        "\n",
        "# Membuat folder output jika belum ada\n",
        "os.makedirs(output_folder, exist_ok=True)\n",
        "\n",
        "categories = [\"anemia\", \"non-anemia\"]\n",
        "\n",
        "for category in categories:\n",
        "    category_input_folder = os.path.join(input_folder, category)\n",
        "    category_output_folder = os.path.join(output_folder, category)\n",
        "    os.makedirs(category_output_folder, exist_ok=True)\n",
        "\n",
        "    images = os.listdir(category_input_folder)\n",
        "\n",
        "    for image_name in images:\n",
        "        image_path = os.path.join(category_input_folder, image_name)\n",
        "        output_image_path = os.path.join(category_output_folder, image_name)\n",
        "\n",
        "        if os.path.isfile(image_path):\n",
        "            # Baca gambar\n",
        "            img = cv2.imread(image_path)\n",
        "\n",
        "            # Normalisasi ukuran menjadi 224x224\n",
        "            img = cv2.resize(img, (224, 224))\n",
        "\n",
        "            # Simpan gambar yang sudah dinormalisasi\n",
        "            cv2.imwrite(output_image_path, img)"
      ],
      "metadata": {
        "id": "WkazKW_ecVVw"
      },
      "execution_count": 3,
      "outputs": []
    },
    {
      "cell_type": "code",
      "source": [
        "import os\n",
        "\n",
        "output_folder = \"/content/drive/MyDrive/conjuctiva224\"\n",
        "\n",
        "categories = [\"anemia\", \"non-anemia\"]\n",
        "\n",
        "for category in categories:\n",
        "    category_folder = os.path.join(output_folder, category)\n",
        "    file_count = len(os.listdir(category_folder))\n",
        "    print(f\"Jumlah file pada folder {category}: {file_count}\")"
      ],
      "metadata": {
        "colab": {
          "base_uri": "https://localhost:8080/"
        },
        "id": "sapq-sdp1do1",
        "outputId": "12fcae9e-a24d-4604-f162-6cac43a99411"
      },
      "execution_count": 4,
      "outputs": [
        {
          "output_type": "stream",
          "name": "stdout",
          "text": [
            "Jumlah file pada folder anemia: 2558\n",
            "Jumlah file pada folder non-anemia: 2558\n"
          ]
        }
      ]
    },
    {
      "cell_type": "markdown",
      "source": [
        "**Split Dataset**"
      ],
      "metadata": {
        "id": "YcmjBeBO1yAg"
      }
    },
    {
      "cell_type": "code",
      "source": [
        "import os\n",
        "import shutil\n",
        "import random\n",
        "\n",
        "# Tentukan path dataset\n",
        "dataset_path = \"/content/drive/MyDrive/conjuctiva224\"\n",
        "\n",
        "# Tentukan path output untuk menyimpan dataset terbagi\n",
        "output_path = \"/content/drive/MyDrive/anemalyze\"\n",
        "\n",
        "# Buat direktori output jika belum ada\n",
        "os.makedirs(output_path, exist_ok=True)\n",
        "\n",
        "# Membaca nama file dari setiap kelas\n",
        "anemia_files = os.listdir(os.path.join(dataset_path, \"anemia\"))\n",
        "nonanemia_files = os.listdir(os.path.join(dataset_path, \"non-anemia\"))\n",
        "\n",
        "# Menggabungkan semua kategori\n",
        "all_files = {\n",
        "    \"anemia\": anemia_files,\n",
        "    \"non-anemia\": nonanemia_files,\n",
        "}\n",
        "\n",
        "# Mengacak urutan file di setiap kategori\n",
        "for category in all_files:\n",
        "    random.shuffle(all_files[category])\n",
        "\n",
        "# Tentukan rasio pembagian dataset\n",
        "train_ratio = 0.8\n",
        "validation_ratio = 0.1\n",
        "test_ratio = 0.1\n",
        "\n",
        "# Memisahkan dataset menjadi bagian pelatihan, validasi, dan pengujian\n",
        "train_data = {}\n",
        "validation_data = {}\n",
        "test_data = {}\n",
        "\n",
        "for category, files in all_files.items():\n",
        "    total_files = len(files)\n",
        "    train_split = int(train_ratio * total_files)\n",
        "    validation_split = int(validation_ratio * total_files)\n",
        "\n",
        "    train_data[category] = files[:train_split]\n",
        "    validation_data[category] = files[train_split:train_split+validation_split]\n",
        "    test_data[category] = files[train_split+validation_split:]\n",
        "\n",
        "# Fungsi untuk memindahkan file ke direktori output\n",
        "def move_files(files, source_path, destination_path):\n",
        "    for file in files:\n",
        "        source_file = os.path.join(source_path, file)\n",
        "        destination_file = os.path.join(destination_path, file)\n",
        "        shutil.copyfile(source_file, destination_file)\n",
        "\n",
        "# Memindahkan file ke direktori output\n",
        "for category, files in train_data.items():\n",
        "    source_path = os.path.join(dataset_path, category)\n",
        "    destination_path = os.path.join(output_path, \"train\", category)\n",
        "    os.makedirs(destination_path, exist_ok=True)\n",
        "    move_files(files, source_path, destination_path)\n",
        "\n",
        "for category, files in validation_data.items():\n",
        "    source_path = os.path.join(dataset_path, category)\n",
        "    destination_path = os.path.join(output_path, \"validation\", category)\n",
        "    os.makedirs(destination_path, exist_ok=True)\n",
        "    move_files(files, source_path, destination_path)\n",
        "\n",
        "for category, files in test_data.items():\n",
        "    source_path = os.path.join(dataset_path, category)\n",
        "    destination_path = os.path.join(output_path, \"test\", category)\n",
        "    os.makedirs(destination_path, exist_ok=True)\n",
        "    move_files(files, source_path, destination_path)\n",
        "\n",
        "print(\"Split Data Telah Selesai!\")"
      ],
      "metadata": {
        "colab": {
          "base_uri": "https://localhost:8080/"
        },
        "id": "47VT5W9113Ry",
        "outputId": "609d40a6-bd08-4a7e-d960-845efa629379"
      },
      "execution_count": 5,
      "outputs": [
        {
          "output_type": "stream",
          "name": "stdout",
          "text": [
            "Split Data Telah Selesai!\n"
          ]
        }
      ]
    },
    {
      "cell_type": "code",
      "source": [
        "import os\n",
        "\n",
        "train_folder = \"/content/drive/MyDrive/anemalyze/train\"\n",
        "validation_folder = \"/content/drive/MyDrive/anemalyze/validation\"\n",
        "test_folder = \"/content/drive/MyDrive/anemalyze/test\"\n",
        "\n",
        "categories = [\"anemia\", \"non-anemia\"]\n",
        "\n",
        "print(\"TRAIN\")\n",
        "for category in categories:\n",
        "    category_folder = os.path.join(train_folder, category)\n",
        "    file_count = len(os.listdir(category_folder))\n",
        "    print(f\"Jumlah file pada folder {category}: {file_count}\")\n",
        "print(\"VALIDATION\")\n",
        "for category in categories:\n",
        "    category_folder = os.path.join(validation_folder, category)\n",
        "    file_count = len(os.listdir(category_folder))\n",
        "    print(f\"Jumlah file pada folder {category}: {file_count}\")\n",
        "print(\"TEST\")\n",
        "for category in categories:\n",
        "    category_folder = os.path.join(test_folder, category)\n",
        "    file_count = len(os.listdir(category_folder))\n",
        "    print(f\"Jumlah file pada folder {category}: {file_count}\")"
      ],
      "metadata": {
        "colab": {
          "base_uri": "https://localhost:8080/"
        },
        "id": "RjCbi7Ch34bU",
        "outputId": "4c56eab1-3e84-426a-8506-508601c1caa8"
      },
      "execution_count": 6,
      "outputs": [
        {
          "output_type": "stream",
          "name": "stdout",
          "text": [
            "TRAIN\n",
            "Jumlah file pada folder anemia: 2046\n",
            "Jumlah file pada folder non-anemia: 2046\n",
            "VALIDATION\n",
            "Jumlah file pada folder anemia: 255\n",
            "Jumlah file pada folder non-anemia: 255\n",
            "TEST\n",
            "Jumlah file pada folder anemia: 257\n",
            "Jumlah file pada folder non-anemia: 257\n"
          ]
        }
      ]
    },
    {
      "cell_type": "markdown",
      "source": [
        "# **Build Model with MobileNetV2 and CNN**"
      ],
      "metadata": {
        "id": "Th4OLrJm7tnJ"
      }
    },
    {
      "cell_type": "code",
      "source": [
        "train_dir = \"/content/drive/MyDrive/anemalyze/train\"\n",
        "test_dir = \"/content/drive/MyDrive/anemalyze/test\"\n",
        "val_dir = \"/content/drive/MyDrive/anemalyze/validation\"\n",
        "\n",
        "input_shape = (224, 224)\n",
        "num_classes = 2\n",
        "batch_size = 64\n",
        "epochs = 50\n",
        "\n",
        "train_datagen = ImageDataGenerator(\n",
        "                rescale=1./255,\n",
        "                rotation_range=20,\n",
        "                horizontal_flip=True,\n",
        "                shear_range = 0.2,\n",
        "                fill_mode = 'nearest')\n",
        "test_datagen = ImageDataGenerator(rescale=1./255)\n",
        "\n",
        "train_generator = train_datagen.flow_from_directory(\n",
        "    train_dir,\n",
        "    target_size=(224, 224),\n",
        "    batch_size=batch_size,\n",
        "    class_mode='binary',\n",
        "    shuffle=True\n",
        ")\n",
        "\n",
        "test_generator = test_datagen.flow_from_directory(\n",
        "    test_dir,\n",
        "    target_size=(224, 224),\n",
        "    batch_size=batch_size,\n",
        "    class_mode='binary',\n",
        "    shuffle=False\n",
        ")\n",
        "\n",
        "validation_generator = test_datagen.flow_from_directory(\n",
        "        test_dir,\n",
        "        target_size=(224, 224),\n",
        "        batch_size=batch_size,\n",
        "        class_mode='binary')"
      ],
      "metadata": {
        "colab": {
          "base_uri": "https://localhost:8080/"
        },
        "id": "LfmN-Kqq76rS",
        "outputId": "69039df5-e772-412e-a875-afb8fd13ffa4"
      },
      "execution_count": 7,
      "outputs": [
        {
          "output_type": "stream",
          "name": "stdout",
          "text": [
            "Found 4092 images belonging to 2 classes.\n",
            "Found 514 images belonging to 2 classes.\n",
            "Found 514 images belonging to 2 classes.\n"
          ]
        }
      ]
    },
    {
      "cell_type": "code",
      "source": [
        "# Load MobileNetV2 without the top layers\n",
        "base_model = tf.keras.applications.MobileNetV2(input_shape=(224, 224, 3),\n",
        "                                               include_top=False,\n",
        "                                               weights='imagenet')\n",
        "base_model.trainable = False  # Freeze base model layers initially"
      ],
      "metadata": {
        "colab": {
          "base_uri": "https://localhost:8080/"
        },
        "id": "3r2w_MZrGdnP",
        "outputId": "bdea4bc7-c1a5-48e9-9bbf-21c8988c2df7"
      },
      "execution_count": 8,
      "outputs": [
        {
          "output_type": "stream",
          "name": "stdout",
          "text": [
            "Downloading data from https://storage.googleapis.com/tensorflow/keras-applications/mobilenet_v2/mobilenet_v2_weights_tf_dim_ordering_tf_kernels_1.0_224_no_top.h5\n",
            "\u001b[1m9406464/9406464\u001b[0m \u001b[32m━━━━━━━━━━━━━━━━━━━━\u001b[0m\u001b[37m\u001b[0m \u001b[1m0s\u001b[0m 0us/step\n"
          ]
        }
      ]
    },
    {
      "cell_type": "code",
      "source": [
        "model = Sequential([\n",
        "    base_model,\n",
        "    Conv2D(128, (3, 3), activation='relu'),\n",
        "    MaxPooling2D(2, 2),\n",
        "    Conv2D(256, (3, 3), activation='relu', padding='same'),\n",
        "    MaxPooling2D(2, 2),\n",
        "    GlobalAveragePooling2D(),\n",
        "    Dense(128, activation='relu'),\n",
        "    Dropout(0.5),\n",
        "    Dense(1, activation='sigmoid')\n",
        "])"
      ],
      "metadata": {
        "id": "RUuKOLU6Gj4H"
      },
      "execution_count": 15,
      "outputs": []
    },
    {
      "cell_type": "code",
      "source": [
        "model.compile(loss='binary_crossentropy',\n",
        "              optimizer=tf.optimizers.Adam(learning_rate=1e-4),\n",
        "              metrics=['accuracy'])\n",
        "\n",
        "model.summary()"
      ],
      "metadata": {
        "colab": {
          "base_uri": "https://localhost:8080/",
          "height": 433
        },
        "id": "qTplnfxHHSNO",
        "outputId": "1bbe4b55-72c4-46b0-d6b4-85e8dfc12a55"
      },
      "execution_count": 16,
      "outputs": [
        {
          "output_type": "display_data",
          "data": {
            "text/plain": [
              "\u001b[1mModel: \"sequential_1\"\u001b[0m\n"
            ],
            "text/html": [
              "<pre style=\"white-space:pre;overflow-x:auto;line-height:normal;font-family:Menlo,'DejaVu Sans Mono',consolas,'Courier New',monospace\"><span style=\"font-weight: bold\">Model: \"sequential_1\"</span>\n",
              "</pre>\n"
            ]
          },
          "metadata": {}
        },
        {
          "output_type": "display_data",
          "data": {
            "text/plain": [
              "┏━━━━━━━━━━━━━━━━━━━━━━━━━━━━━━━━━━━━━━┳━━━━━━━━━━━━━━━━━━━━━━━━━━━━━┳━━━━━━━━━━━━━━━━━┓\n",
              "┃\u001b[1m \u001b[0m\u001b[1mLayer (type)                        \u001b[0m\u001b[1m \u001b[0m┃\u001b[1m \u001b[0m\u001b[1mOutput Shape               \u001b[0m\u001b[1m \u001b[0m┃\u001b[1m \u001b[0m\u001b[1m        Param #\u001b[0m\u001b[1m \u001b[0m┃\n",
              "┡━━━━━━━━━━━━━━━━━━━━━━━━━━━━━━━━━━━━━━╇━━━━━━━━━━━━━━━━━━━━━━━━━━━━━╇━━━━━━━━━━━━━━━━━┩\n",
              "│ mobilenetv2_1.00_224 (\u001b[38;5;33mFunctional\u001b[0m)    │ (\u001b[38;5;45mNone\u001b[0m, \u001b[38;5;34m7\u001b[0m, \u001b[38;5;34m7\u001b[0m, \u001b[38;5;34m1280\u001b[0m)          │       \u001b[38;5;34m2,257,984\u001b[0m │\n",
              "├──────────────────────────────────────┼─────────────────────────────┼─────────────────┤\n",
              "│ conv2d_2 (\u001b[38;5;33mConv2D\u001b[0m)                    │ (\u001b[38;5;45mNone\u001b[0m, \u001b[38;5;34m5\u001b[0m, \u001b[38;5;34m5\u001b[0m, \u001b[38;5;34m128\u001b[0m)           │       \u001b[38;5;34m1,474,688\u001b[0m │\n",
              "├──────────────────────────────────────┼─────────────────────────────┼─────────────────┤\n",
              "│ max_pooling2d_2 (\u001b[38;5;33mMaxPooling2D\u001b[0m)       │ (\u001b[38;5;45mNone\u001b[0m, \u001b[38;5;34m2\u001b[0m, \u001b[38;5;34m2\u001b[0m, \u001b[38;5;34m128\u001b[0m)           │               \u001b[38;5;34m0\u001b[0m │\n",
              "├──────────────────────────────────────┼─────────────────────────────┼─────────────────┤\n",
              "│ conv2d_3 (\u001b[38;5;33mConv2D\u001b[0m)                    │ (\u001b[38;5;45mNone\u001b[0m, \u001b[38;5;34m2\u001b[0m, \u001b[38;5;34m2\u001b[0m, \u001b[38;5;34m256\u001b[0m)           │         \u001b[38;5;34m295,168\u001b[0m │\n",
              "├──────────────────────────────────────┼─────────────────────────────┼─────────────────┤\n",
              "│ max_pooling2d_3 (\u001b[38;5;33mMaxPooling2D\u001b[0m)       │ (\u001b[38;5;45mNone\u001b[0m, \u001b[38;5;34m1\u001b[0m, \u001b[38;5;34m1\u001b[0m, \u001b[38;5;34m256\u001b[0m)           │               \u001b[38;5;34m0\u001b[0m │\n",
              "├──────────────────────────────────────┼─────────────────────────────┼─────────────────┤\n",
              "│ global_average_pooling2d_1           │ (\u001b[38;5;45mNone\u001b[0m, \u001b[38;5;34m256\u001b[0m)                 │               \u001b[38;5;34m0\u001b[0m │\n",
              "│ (\u001b[38;5;33mGlobalAveragePooling2D\u001b[0m)             │                             │                 │\n",
              "├──────────────────────────────────────┼─────────────────────────────┼─────────────────┤\n",
              "│ dense_2 (\u001b[38;5;33mDense\u001b[0m)                      │ (\u001b[38;5;45mNone\u001b[0m, \u001b[38;5;34m128\u001b[0m)                 │          \u001b[38;5;34m32,896\u001b[0m │\n",
              "├──────────────────────────────────────┼─────────────────────────────┼─────────────────┤\n",
              "│ dropout_1 (\u001b[38;5;33mDropout\u001b[0m)                  │ (\u001b[38;5;45mNone\u001b[0m, \u001b[38;5;34m128\u001b[0m)                 │               \u001b[38;5;34m0\u001b[0m │\n",
              "├──────────────────────────────────────┼─────────────────────────────┼─────────────────┤\n",
              "│ dense_3 (\u001b[38;5;33mDense\u001b[0m)                      │ (\u001b[38;5;45mNone\u001b[0m, \u001b[38;5;34m1\u001b[0m)                   │             \u001b[38;5;34m129\u001b[0m │\n",
              "└──────────────────────────────────────┴─────────────────────────────┴─────────────────┘\n"
            ],
            "text/html": [
              "<pre style=\"white-space:pre;overflow-x:auto;line-height:normal;font-family:Menlo,'DejaVu Sans Mono',consolas,'Courier New',monospace\">┏━━━━━━━━━━━━━━━━━━━━━━━━━━━━━━━━━━━━━━┳━━━━━━━━━━━━━━━━━━━━━━━━━━━━━┳━━━━━━━━━━━━━━━━━┓\n",
              "┃<span style=\"font-weight: bold\"> Layer (type)                         </span>┃<span style=\"font-weight: bold\"> Output Shape                </span>┃<span style=\"font-weight: bold\">         Param # </span>┃\n",
              "┡━━━━━━━━━━━━━━━━━━━━━━━━━━━━━━━━━━━━━━╇━━━━━━━━━━━━━━━━━━━━━━━━━━━━━╇━━━━━━━━━━━━━━━━━┩\n",
              "│ mobilenetv2_1.00_224 (<span style=\"color: #0087ff; text-decoration-color: #0087ff\">Functional</span>)    │ (<span style=\"color: #00d7ff; text-decoration-color: #00d7ff\">None</span>, <span style=\"color: #00af00; text-decoration-color: #00af00\">7</span>, <span style=\"color: #00af00; text-decoration-color: #00af00\">7</span>, <span style=\"color: #00af00; text-decoration-color: #00af00\">1280</span>)          │       <span style=\"color: #00af00; text-decoration-color: #00af00\">2,257,984</span> │\n",
              "├──────────────────────────────────────┼─────────────────────────────┼─────────────────┤\n",
              "│ conv2d_2 (<span style=\"color: #0087ff; text-decoration-color: #0087ff\">Conv2D</span>)                    │ (<span style=\"color: #00d7ff; text-decoration-color: #00d7ff\">None</span>, <span style=\"color: #00af00; text-decoration-color: #00af00\">5</span>, <span style=\"color: #00af00; text-decoration-color: #00af00\">5</span>, <span style=\"color: #00af00; text-decoration-color: #00af00\">128</span>)           │       <span style=\"color: #00af00; text-decoration-color: #00af00\">1,474,688</span> │\n",
              "├──────────────────────────────────────┼─────────────────────────────┼─────────────────┤\n",
              "│ max_pooling2d_2 (<span style=\"color: #0087ff; text-decoration-color: #0087ff\">MaxPooling2D</span>)       │ (<span style=\"color: #00d7ff; text-decoration-color: #00d7ff\">None</span>, <span style=\"color: #00af00; text-decoration-color: #00af00\">2</span>, <span style=\"color: #00af00; text-decoration-color: #00af00\">2</span>, <span style=\"color: #00af00; text-decoration-color: #00af00\">128</span>)           │               <span style=\"color: #00af00; text-decoration-color: #00af00\">0</span> │\n",
              "├──────────────────────────────────────┼─────────────────────────────┼─────────────────┤\n",
              "│ conv2d_3 (<span style=\"color: #0087ff; text-decoration-color: #0087ff\">Conv2D</span>)                    │ (<span style=\"color: #00d7ff; text-decoration-color: #00d7ff\">None</span>, <span style=\"color: #00af00; text-decoration-color: #00af00\">2</span>, <span style=\"color: #00af00; text-decoration-color: #00af00\">2</span>, <span style=\"color: #00af00; text-decoration-color: #00af00\">256</span>)           │         <span style=\"color: #00af00; text-decoration-color: #00af00\">295,168</span> │\n",
              "├──────────────────────────────────────┼─────────────────────────────┼─────────────────┤\n",
              "│ max_pooling2d_3 (<span style=\"color: #0087ff; text-decoration-color: #0087ff\">MaxPooling2D</span>)       │ (<span style=\"color: #00d7ff; text-decoration-color: #00d7ff\">None</span>, <span style=\"color: #00af00; text-decoration-color: #00af00\">1</span>, <span style=\"color: #00af00; text-decoration-color: #00af00\">1</span>, <span style=\"color: #00af00; text-decoration-color: #00af00\">256</span>)           │               <span style=\"color: #00af00; text-decoration-color: #00af00\">0</span> │\n",
              "├──────────────────────────────────────┼─────────────────────────────┼─────────────────┤\n",
              "│ global_average_pooling2d_1           │ (<span style=\"color: #00d7ff; text-decoration-color: #00d7ff\">None</span>, <span style=\"color: #00af00; text-decoration-color: #00af00\">256</span>)                 │               <span style=\"color: #00af00; text-decoration-color: #00af00\">0</span> │\n",
              "│ (<span style=\"color: #0087ff; text-decoration-color: #0087ff\">GlobalAveragePooling2D</span>)             │                             │                 │\n",
              "├──────────────────────────────────────┼─────────────────────────────┼─────────────────┤\n",
              "│ dense_2 (<span style=\"color: #0087ff; text-decoration-color: #0087ff\">Dense</span>)                      │ (<span style=\"color: #00d7ff; text-decoration-color: #00d7ff\">None</span>, <span style=\"color: #00af00; text-decoration-color: #00af00\">128</span>)                 │          <span style=\"color: #00af00; text-decoration-color: #00af00\">32,896</span> │\n",
              "├──────────────────────────────────────┼─────────────────────────────┼─────────────────┤\n",
              "│ dropout_1 (<span style=\"color: #0087ff; text-decoration-color: #0087ff\">Dropout</span>)                  │ (<span style=\"color: #00d7ff; text-decoration-color: #00d7ff\">None</span>, <span style=\"color: #00af00; text-decoration-color: #00af00\">128</span>)                 │               <span style=\"color: #00af00; text-decoration-color: #00af00\">0</span> │\n",
              "├──────────────────────────────────────┼─────────────────────────────┼─────────────────┤\n",
              "│ dense_3 (<span style=\"color: #0087ff; text-decoration-color: #0087ff\">Dense</span>)                      │ (<span style=\"color: #00d7ff; text-decoration-color: #00d7ff\">None</span>, <span style=\"color: #00af00; text-decoration-color: #00af00\">1</span>)                   │             <span style=\"color: #00af00; text-decoration-color: #00af00\">129</span> │\n",
              "└──────────────────────────────────────┴─────────────────────────────┴─────────────────┘\n",
              "</pre>\n"
            ]
          },
          "metadata": {}
        },
        {
          "output_type": "display_data",
          "data": {
            "text/plain": [
              "\u001b[1m Total params: \u001b[0m\u001b[38;5;34m4,060,865\u001b[0m (15.49 MB)\n"
            ],
            "text/html": [
              "<pre style=\"white-space:pre;overflow-x:auto;line-height:normal;font-family:Menlo,'DejaVu Sans Mono',consolas,'Courier New',monospace\"><span style=\"font-weight: bold\"> Total params: </span><span style=\"color: #00af00; text-decoration-color: #00af00\">4,060,865</span> (15.49 MB)\n",
              "</pre>\n"
            ]
          },
          "metadata": {}
        },
        {
          "output_type": "display_data",
          "data": {
            "text/plain": [
              "\u001b[1m Trainable params: \u001b[0m\u001b[38;5;34m1,802,881\u001b[0m (6.88 MB)\n"
            ],
            "text/html": [
              "<pre style=\"white-space:pre;overflow-x:auto;line-height:normal;font-family:Menlo,'DejaVu Sans Mono',consolas,'Courier New',monospace\"><span style=\"font-weight: bold\"> Trainable params: </span><span style=\"color: #00af00; text-decoration-color: #00af00\">1,802,881</span> (6.88 MB)\n",
              "</pre>\n"
            ]
          },
          "metadata": {}
        },
        {
          "output_type": "display_data",
          "data": {
            "text/plain": [
              "\u001b[1m Non-trainable params: \u001b[0m\u001b[38;5;34m2,257,984\u001b[0m (8.61 MB)\n"
            ],
            "text/html": [
              "<pre style=\"white-space:pre;overflow-x:auto;line-height:normal;font-family:Menlo,'DejaVu Sans Mono',consolas,'Courier New',monospace\"><span style=\"font-weight: bold\"> Non-trainable params: </span><span style=\"color: #00af00; text-decoration-color: #00af00\">2,257,984</span> (8.61 MB)\n",
              "</pre>\n"
            ]
          },
          "metadata": {}
        }
      ]
    },
    {
      "cell_type": "code",
      "source": [
        "class myCallback(tf.keras.callbacks.Callback):\n",
        "    def __init__(self, accuracy_threshold=0.8):\n",
        "        super(myCallback, self).__init__()\n",
        "        self.accuracy_threshold = accuracy_threshold\n",
        "\n",
        "    def on_epoch_end(self, epoch, logs={}):\n",
        "        if logs.get('accuracy') and logs.get('accuracy') > self.accuracy_threshold:\n",
        "            print(f\"\\nReached {self.accuracy_threshold * 100}% accuracy, stopping training!\")\n",
        "            self.model.stop_training = True\n",
        "\n",
        "early_stop = EarlyStopping(monitor='val_loss', patience=5, restore_best_weights=True)"
      ],
      "metadata": {
        "id": "ii_TZfs8HYkW"
      },
      "execution_count": 13,
      "outputs": []
    },
    {
      "cell_type": "markdown",
      "source": [
        "**Training model**"
      ],
      "metadata": {
        "id": "v-oT6EeJAnQ_"
      }
    },
    {
      "cell_type": "code",
      "source": [
        "callbacks_list = [myCallback(accuracy_threshold=0.85), early_stop]\n",
        "\n",
        "history = model.fit(\n",
        "      train_generator,\n",
        "      epochs=epochs,\n",
        "      validation_data=validation_generator,\n",
        "      callbacks=callbacks_list)"
      ],
      "metadata": {
        "colab": {
          "base_uri": "https://localhost:8080/"
        },
        "id": "Iv40Bh4wHgjQ",
        "outputId": "0487eeb9-8af0-413c-841a-f13e3b72f53a"
      },
      "execution_count": 17,
      "outputs": [
        {
          "output_type": "stream",
          "name": "stdout",
          "text": [
            "Epoch 1/50\n",
            "\u001b[1m64/64\u001b[0m \u001b[32m━━━━━━━━━━━━━━━━━━━━\u001b[0m\u001b[37m\u001b[0m \u001b[1m357s\u001b[0m 5s/step - accuracy: 0.5275 - loss: 0.9124 - val_accuracy: 0.5778 - val_loss: 0.6531\n",
            "Epoch 2/50\n",
            "\u001b[1m64/64\u001b[0m \u001b[32m━━━━━━━━━━━━━━━━━━━━\u001b[0m\u001b[37m\u001b[0m \u001b[1m350s\u001b[0m 5s/step - accuracy: 0.6242 - loss: 0.6464 - val_accuracy: 0.6479 - val_loss: 0.6347\n",
            "Epoch 3/50\n",
            "\u001b[1m64/64\u001b[0m \u001b[32m━━━━━━━━━━━━━━━━━━━━\u001b[0m\u001b[37m\u001b[0m \u001b[1m337s\u001b[0m 5s/step - accuracy: 0.6545 - loss: 0.6176 - val_accuracy: 0.6556 - val_loss: 0.6225\n",
            "Epoch 4/50\n",
            "\u001b[1m64/64\u001b[0m \u001b[32m━━━━━━━━━━━━━━━━━━━━\u001b[0m\u001b[37m\u001b[0m \u001b[1m346s\u001b[0m 5s/step - accuracy: 0.6688 - loss: 0.6009 - val_accuracy: 0.6848 - val_loss: 0.6024\n",
            "Epoch 5/50\n",
            "\u001b[1m64/64\u001b[0m \u001b[32m━━━━━━━━━━━━━━━━━━━━\u001b[0m\u001b[37m\u001b[0m \u001b[1m338s\u001b[0m 5s/step - accuracy: 0.7323 - loss: 0.5463 - val_accuracy: 0.6848 - val_loss: 0.5660\n",
            "Epoch 6/50\n",
            "\u001b[1m64/64\u001b[0m \u001b[32m━━━━━━━━━━━━━━━━━━━━\u001b[0m\u001b[37m\u001b[0m \u001b[1m391s\u001b[0m 5s/step - accuracy: 0.7436 - loss: 0.5185 - val_accuracy: 0.7004 - val_loss: 0.5872\n",
            "Epoch 7/50\n",
            "\u001b[1m64/64\u001b[0m \u001b[32m━━━━━━━━━━━━━━━━━━━━\u001b[0m\u001b[37m\u001b[0m \u001b[1m371s\u001b[0m 5s/step - accuracy: 0.7472 - loss: 0.4931 - val_accuracy: 0.7393 - val_loss: 0.5228\n",
            "Epoch 8/50\n",
            "\u001b[1m64/64\u001b[0m \u001b[32m━━━━━━━━━━━━━━━━━━━━\u001b[0m\u001b[37m\u001b[0m \u001b[1m353s\u001b[0m 5s/step - accuracy: 0.7948 - loss: 0.4506 - val_accuracy: 0.7354 - val_loss: 0.5228\n",
            "Epoch 9/50\n",
            "\u001b[1m64/64\u001b[0m \u001b[32m━━━━━━━━━━━━━━━━━━━━\u001b[0m\u001b[37m\u001b[0m \u001b[1m349s\u001b[0m 5s/step - accuracy: 0.8153 - loss: 0.4093 - val_accuracy: 0.7626 - val_loss: 0.4986\n",
            "Epoch 10/50\n",
            "\u001b[1m64/64\u001b[0m \u001b[32m━━━━━━━━━━━━━━━━━━━━\u001b[0m\u001b[37m\u001b[0m \u001b[1m338s\u001b[0m 5s/step - accuracy: 0.7995 - loss: 0.4317 - val_accuracy: 0.7860 - val_loss: 0.4732\n",
            "Epoch 11/50\n",
            "\u001b[1m64/64\u001b[0m \u001b[32m━━━━━━━━━━━━━━━━━━━━\u001b[0m\u001b[37m\u001b[0m \u001b[1m349s\u001b[0m 5s/step - accuracy: 0.8458 - loss: 0.3657 - val_accuracy: 0.7724 - val_loss: 0.4809\n",
            "Epoch 12/50\n",
            "\u001b[1m64/64\u001b[0m \u001b[32m━━━━━━━━━━━━━━━━━━━━\u001b[0m\u001b[37m\u001b[0m \u001b[1m0s\u001b[0m 5s/step - accuracy: 0.8597 - loss: 0.3375\n",
            "Reached 85.0% accuracy, stopping training!\n",
            "\u001b[1m64/64\u001b[0m \u001b[32m━━━━━━━━━━━━━━━━━━━━\u001b[0m\u001b[37m\u001b[0m \u001b[1m337s\u001b[0m 5s/step - accuracy: 0.8596 - loss: 0.3374 - val_accuracy: 0.7899 - val_loss: 0.4497\n"
          ]
        }
      ]
    },
    {
      "cell_type": "markdown",
      "source": [
        "**Review the learning curves**"
      ],
      "metadata": {
        "id": "fGe6psZfEEHL"
      }
    },
    {
      "cell_type": "code",
      "source": [
        "acc = history.history['accuracy']\n",
        "val_acc = history.history['val_accuracy']\n",
        "\n",
        "loss = history.history['loss']\n",
        "val_loss = history.history['val_loss']\n",
        "\n",
        "plt.figure(figsize=(8, 8))\n",
        "plt.subplot(2, 1, 1)\n",
        "plt.plot(acc, label='Training Accuracy')\n",
        "plt.plot(val_acc, label='Validation Accuracy')\n",
        "plt.legend(loc='lower right')\n",
        "plt.ylabel('Accuracy')\n",
        "plt.ylim([min(plt.ylim()),1])\n",
        "plt.title('Training and Validation Accuracy')\n",
        "\n",
        "plt.subplot(2, 1, 2)\n",
        "plt.plot(loss, label='Training Loss')\n",
        "plt.plot(val_loss, label='Validation Loss')\n",
        "plt.legend(loc='upper right')\n",
        "plt.ylabel('Cross Entropy')\n",
        "plt.ylim([0,1.0])\n",
        "plt.title('Training and Validation Loss')\n",
        "plt.xlabel('epoch')\n",
        "plt.show()"
      ],
      "metadata": {
        "colab": {
          "base_uri": "https://localhost:8080/",
          "height": 718
        },
        "id": "sMPoQwYacezI",
        "outputId": "fb559670-6e5d-4258-c914-7a289a022925"
      },
      "execution_count": 18,
      "outputs": [
        {
          "output_type": "display_data",
          "data": {
            "text/plain": [
              "<Figure size 800x800 with 2 Axes>"
            ],
            "image/png": "[encoded data removed]"
          },
          "metadata": {}
        }
      ]
    },
    {
      "cell_type": "markdown",
      "source": [
        "**Fine Tune**"
      ],
      "metadata": {
        "id": "f6dGwwW0eHid"
      }
    },
    {
      "cell_type": "code",
      "source": [
        "base_model.trainable = True\n",
        "fine_tune_at = 100\n",
        "\n",
        "# Freeze all the layers before the `fine_tune_at` layer\n",
        "for layer in base_model.layers[:fine_tune_at]:\n",
        "  layer.trainable =  False"
      ],
      "metadata": {
        "id": "neflmKtleO82"
      },
      "execution_count": 20,
      "outputs": []
    },
    {
      "cell_type": "code",
      "source": [
        "model.compile(\n",
        "    optimizer=tf.keras.optimizers.Adam(learning_rate=1e-5),\n",
        "    loss='binary_crossentropy',\n",
        "    metrics=['accuracy']\n",
        ")"
      ],
      "metadata": {
        "id": "XrCszrVYfEJW"
      },
      "execution_count": 21,
      "outputs": []
    },
    {
      "cell_type": "code",
      "source": [
        "model.summary()"
      ],
      "metadata": {
        "colab": {
          "base_uri": "https://localhost:8080/",
          "height": 433
        },
        "id": "kfTy2M3lfhBC",
        "outputId": "b504410e-755b-4755-e161-a4847ca08884"
      },
      "execution_count": 22,
      "outputs": [
        {
          "output_type": "display_data",
          "data": {
            "text/plain": [
              "\u001b[1mModel: \"sequential_1\"\u001b[0m\n"
            ],
            "text/html": [
              "<pre style=\"white-space:pre;overflow-x:auto;line-height:normal;font-family:Menlo,'DejaVu Sans Mono',consolas,'Courier New',monospace\"><span style=\"font-weight: bold\">Model: \"sequential_1\"</span>\n",
              "</pre>\n"
            ]
          },
          "metadata": {}
        },
        {
          "output_type": "display_data",
          "data": {
            "text/plain": [
              "┏━━━━━━━━━━━━━━━━━━━━━━━━━━━━━━━━━━━━━━┳━━━━━━━━━━━━━━━━━━━━━━━━━━━━━┳━━━━━━━━━━━━━━━━━┓\n",
              "┃\u001b[1m \u001b[0m\u001b[1mLayer (type)                        \u001b[0m\u001b[1m \u001b[0m┃\u001b[1m \u001b[0m\u001b[1mOutput Shape               \u001b[0m\u001b[1m \u001b[0m┃\u001b[1m \u001b[0m\u001b[1m        Param #\u001b[0m\u001b[1m \u001b[0m┃\n",
              "┡━━━━━━━━━━━━━━━━━━━━━━━━━━━━━━━━━━━━━━╇━━━━━━━━━━━━━━━━━━━━━━━━━━━━━╇━━━━━━━━━━━━━━━━━┩\n",
              "│ mobilenetv2_1.00_224 (\u001b[38;5;33mFunctional\u001b[0m)    │ (\u001b[38;5;45mNone\u001b[0m, \u001b[38;5;34m7\u001b[0m, \u001b[38;5;34m7\u001b[0m, \u001b[38;5;34m1280\u001b[0m)          │       \u001b[38;5;34m2,257,984\u001b[0m │\n",
              "├──────────────────────────────────────┼─────────────────────────────┼─────────────────┤\n",
              "│ conv2d_2 (\u001b[38;5;33mConv2D\u001b[0m)                    │ (\u001b[38;5;45mNone\u001b[0m, \u001b[38;5;34m5\u001b[0m, \u001b[38;5;34m5\u001b[0m, \u001b[38;5;34m128\u001b[0m)           │       \u001b[38;5;34m1,474,688\u001b[0m │\n",
              "├──────────────────────────────────────┼─────────────────────────────┼─────────────────┤\n",
              "│ max_pooling2d_2 (\u001b[38;5;33mMaxPooling2D\u001b[0m)       │ (\u001b[38;5;45mNone\u001b[0m, \u001b[38;5;34m2\u001b[0m, \u001b[38;5;34m2\u001b[0m, \u001b[38;5;34m128\u001b[0m)           │               \u001b[38;5;34m0\u001b[0m │\n",
              "├──────────────────────────────────────┼─────────────────────────────┼─────────────────┤\n",
              "│ conv2d_3 (\u001b[38;5;33mConv2D\u001b[0m)                    │ (\u001b[38;5;45mNone\u001b[0m, \u001b[38;5;34m2\u001b[0m, \u001b[38;5;34m2\u001b[0m, \u001b[38;5;34m256\u001b[0m)           │         \u001b[38;5;34m295,168\u001b[0m │\n",
              "├──────────────────────────────────────┼─────────────────────────────┼─────────────────┤\n",
              "│ max_pooling2d_3 (\u001b[38;5;33mMaxPooling2D\u001b[0m)       │ (\u001b[38;5;45mNone\u001b[0m, \u001b[38;5;34m1\u001b[0m, \u001b[38;5;34m1\u001b[0m, \u001b[38;5;34m256\u001b[0m)           │               \u001b[38;5;34m0\u001b[0m │\n",
              "├──────────────────────────────────────┼─────────────────────────────┼─────────────────┤\n",
              "│ global_average_pooling2d_1           │ (\u001b[38;5;45mNone\u001b[0m, \u001b[38;5;34m256\u001b[0m)                 │               \u001b[38;5;34m0\u001b[0m │\n",
              "│ (\u001b[38;5;33mGlobalAveragePooling2D\u001b[0m)             │                             │                 │\n",
              "├──────────────────────────────────────┼─────────────────────────────┼─────────────────┤\n",
              "│ dense_2 (\u001b[38;5;33mDense\u001b[0m)                      │ (\u001b[38;5;45mNone\u001b[0m, \u001b[38;5;34m128\u001b[0m)                 │          \u001b[38;5;34m32,896\u001b[0m │\n",
              "├──────────────────────────────────────┼─────────────────────────────┼─────────────────┤\n",
              "│ dropout_1 (\u001b[38;5;33mDropout\u001b[0m)                  │ (\u001b[38;5;45mNone\u001b[0m, \u001b[38;5;34m128\u001b[0m)                 │               \u001b[38;5;34m0\u001b[0m │\n",
              "├──────────────────────────────────────┼─────────────────────────────┼─────────────────┤\n",
              "│ dense_3 (\u001b[38;5;33mDense\u001b[0m)                      │ (\u001b[38;5;45mNone\u001b[0m, \u001b[38;5;34m1\u001b[0m)                   │             \u001b[38;5;34m129\u001b[0m │\n",
              "└──────────────────────────────────────┴─────────────────────────────┴─────────────────┘\n"
            ],
            "text/html": [
              "<pre style=\"white-space:pre;overflow-x:auto;line-height:normal;font-family:Menlo,'DejaVu Sans Mono',consolas,'Courier New',monospace\">┏━━━━━━━━━━━━━━━━━━━━━━━━━━━━━━━━━━━━━━┳━━━━━━━━━━━━━━━━━━━━━━━━━━━━━┳━━━━━━━━━━━━━━━━━┓\n",
              "┃<span style=\"font-weight: bold\"> Layer (type)                         </span>┃<span style=\"font-weight: bold\"> Output Shape                </span>┃<span style=\"font-weight: bold\">         Param # </span>┃\n",
              "┡━━━━━━━━━━━━━━━━━━━━━━━━━━━━━━━━━━━━━━╇━━━━━━━━━━━━━━━━━━━━━━━━━━━━━╇━━━━━━━━━━━━━━━━━┩\n",
              "│ mobilenetv2_1.00_224 (<span style=\"color: #0087ff; text-decoration-color: #0087ff\">Functional</span>)    │ (<span style=\"color: #00d7ff; text-decoration-color: #00d7ff\">None</span>, <span style=\"color: #00af00; text-decoration-color: #00af00\">7</span>, <span style=\"color: #00af00; text-decoration-color: #00af00\">7</span>, <span style=\"color: #00af00; text-decoration-color: #00af00\">1280</span>)          │       <span style=\"color: #00af00; text-decoration-color: #00af00\">2,257,984</span> │\n",
              "├──────────────────────────────────────┼─────────────────────────────┼─────────────────┤\n",
              "│ conv2d_2 (<span style=\"color: #0087ff; text-decoration-color: #0087ff\">Conv2D</span>)                    │ (<span style=\"color: #00d7ff; text-decoration-color: #00d7ff\">None</span>, <span style=\"color: #00af00; text-decoration-color: #00af00\">5</span>, <span style=\"color: #00af00; text-decoration-color: #00af00\">5</span>, <span style=\"color: #00af00; text-decoration-color: #00af00\">128</span>)           │       <span style=\"color: #00af00; text-decoration-color: #00af00\">1,474,688</span> │\n",
              "├──────────────────────────────────────┼─────────────────────────────┼─────────────────┤\n",
              "│ max_pooling2d_2 (<span style=\"color: #0087ff; text-decoration-color: #0087ff\">MaxPooling2D</span>)       │ (<span style=\"color: #00d7ff; text-decoration-color: #00d7ff\">None</span>, <span style=\"color: #00af00; text-decoration-color: #00af00\">2</span>, <span style=\"color: #00af00; text-decoration-color: #00af00\">2</span>, <span style=\"color: #00af00; text-decoration-color: #00af00\">128</span>)           │               <span style=\"color: #00af00; text-decoration-color: #00af00\">0</span> │\n",
              "├──────────────────────────────────────┼─────────────────────────────┼─────────────────┤\n",
              "│ conv2d_3 (<span style=\"color: #0087ff; text-decoration-color: #0087ff\">Conv2D</span>)                    │ (<span style=\"color: #00d7ff; text-decoration-color: #00d7ff\">None</span>, <span style=\"color: #00af00; text-decoration-color: #00af00\">2</span>, <span style=\"color: #00af00; text-decoration-color: #00af00\">2</span>, <span style=\"color: #00af00; text-decoration-color: #00af00\">256</span>)           │         <span style=\"color: #00af00; text-decoration-color: #00af00\">295,168</span> │\n",
              "├──────────────────────────────────────┼─────────────────────────────┼─────────────────┤\n",
              "│ max_pooling2d_3 (<span style=\"color: #0087ff; text-decoration-color: #0087ff\">MaxPooling2D</span>)       │ (<span style=\"color: #00d7ff; text-decoration-color: #00d7ff\">None</span>, <span style=\"color: #00af00; text-decoration-color: #00af00\">1</span>, <span style=\"color: #00af00; text-decoration-color: #00af00\">1</span>, <span style=\"color: #00af00; text-decoration-color: #00af00\">256</span>)           │               <span style=\"color: #00af00; text-decoration-color: #00af00\">0</span> │\n",
              "├──────────────────────────────────────┼─────────────────────────────┼─────────────────┤\n",
              "│ global_average_pooling2d_1           │ (<span style=\"color: #00d7ff; text-decoration-color: #00d7ff\">None</span>, <span style=\"color: #00af00; text-decoration-color: #00af00\">256</span>)                 │               <span style=\"color: #00af00; text-decoration-color: #00af00\">0</span> │\n",
              "│ (<span style=\"color: #0087ff; text-decoration-color: #0087ff\">GlobalAveragePooling2D</span>)             │                             │                 │\n",
              "├──────────────────────────────────────┼─────────────────────────────┼─────────────────┤\n",
              "│ dense_2 (<span style=\"color: #0087ff; text-decoration-color: #0087ff\">Dense</span>)                      │ (<span style=\"color: #00d7ff; text-decoration-color: #00d7ff\">None</span>, <span style=\"color: #00af00; text-decoration-color: #00af00\">128</span>)                 │          <span style=\"color: #00af00; text-decoration-color: #00af00\">32,896</span> │\n",
              "├──────────────────────────────────────┼─────────────────────────────┼─────────────────┤\n",
              "│ dropout_1 (<span style=\"color: #0087ff; text-decoration-color: #0087ff\">Dropout</span>)                  │ (<span style=\"color: #00d7ff; text-decoration-color: #00d7ff\">None</span>, <span style=\"color: #00af00; text-decoration-color: #00af00\">128</span>)                 │               <span style=\"color: #00af00; text-decoration-color: #00af00\">0</span> │\n",
              "├──────────────────────────────────────┼─────────────────────────────┼─────────────────┤\n",
              "│ dense_3 (<span style=\"color: #0087ff; text-decoration-color: #0087ff\">Dense</span>)                      │ (<span style=\"color: #00d7ff; text-decoration-color: #00d7ff\">None</span>, <span style=\"color: #00af00; text-decoration-color: #00af00\">1</span>)                   │             <span style=\"color: #00af00; text-decoration-color: #00af00\">129</span> │\n",
              "└──────────────────────────────────────┴─────────────────────────────┴─────────────────┘\n",
              "</pre>\n"
            ]
          },
          "metadata": {}
        },
        {
          "output_type": "display_data",
          "data": {
            "text/plain": [
              "\u001b[1m Total params: \u001b[0m\u001b[38;5;34m4,060,865\u001b[0m (15.49 MB)\n"
            ],
            "text/html": [
              "<pre style=\"white-space:pre;overflow-x:auto;line-height:normal;font-family:Menlo,'DejaVu Sans Mono',consolas,'Courier New',monospace\"><span style=\"font-weight: bold\"> Total params: </span><span style=\"color: #00af00; text-decoration-color: #00af00\">4,060,865</span> (15.49 MB)\n",
              "</pre>\n"
            ]
          },
          "metadata": {}
        },
        {
          "output_type": "display_data",
          "data": {
            "text/plain": [
              "\u001b[1m Trainable params: \u001b[0m\u001b[38;5;34m3,664,321\u001b[0m (13.98 MB)\n"
            ],
            "text/html": [
              "<pre style=\"white-space:pre;overflow-x:auto;line-height:normal;font-family:Menlo,'DejaVu Sans Mono',consolas,'Courier New',monospace\"><span style=\"font-weight: bold\"> Trainable params: </span><span style=\"color: #00af00; text-decoration-color: #00af00\">3,664,321</span> (13.98 MB)\n",
              "</pre>\n"
            ]
          },
          "metadata": {}
        },
        {
          "output_type": "display_data",
          "data": {
            "text/plain": [
              "\u001b[1m Non-trainable params: \u001b[0m\u001b[38;5;34m396,544\u001b[0m (1.51 MB)\n"
            ],
            "text/html": [
              "<pre style=\"white-space:pre;overflow-x:auto;line-height:normal;font-family:Menlo,'DejaVu Sans Mono',consolas,'Courier New',monospace\"><span style=\"font-weight: bold\"> Non-trainable params: </span><span style=\"color: #00af00; text-decoration-color: #00af00\">396,544</span> (1.51 MB)\n",
              "</pre>\n"
            ]
          },
          "metadata": {}
        }
      ]
    },
    {
      "cell_type": "code",
      "source": [
        "history_fine = model.fit(\n",
        "    train_generator,\n",
        "    validation_data=validation_generator,\n",
        "    epochs=20,\n",
        "    callbacks=[myCallback(accuracy_threshold=0.9)]\n",
        ")"
      ],
      "metadata": {
        "colab": {
          "base_uri": "https://localhost:8080/"
        },
        "id": "hDoabrE1fPwn",
        "outputId": "3e39213c-4fa5-4c0a-a92d-6a98e9c205b6"
      },
      "execution_count": 23,
      "outputs": [
        {
          "output_type": "stream",
          "name": "stdout",
          "text": [
            "Epoch 1/20\n",
            "\u001b[1m64/64\u001b[0m \u001b[32m━━━━━━━━━━━━━━━━━━━━\u001b[0m\u001b[37m\u001b[0m \u001b[1m533s\u001b[0m 8s/step - accuracy: 0.5951 - loss: 0.8679 - val_accuracy: 0.8268 - val_loss: 0.4297\n",
            "Epoch 2/20\n",
            "\u001b[1m64/64\u001b[0m \u001b[32m━━━━━━━━━━━━━━━━━━━━\u001b[0m\u001b[37m\u001b[0m \u001b[1m547s\u001b[0m 8s/step - accuracy: 0.6355 - loss: 0.6753 - val_accuracy: 0.8366 - val_loss: 0.4434\n",
            "Epoch 3/20\n",
            "\u001b[1m64/64\u001b[0m \u001b[32m━━━━━━━━━━━━━━━━━━━━\u001b[0m\u001b[37m\u001b[0m \u001b[1m501s\u001b[0m 8s/step - accuracy: 0.6754 - loss: 0.6000 - val_accuracy: 0.8230 - val_loss: 0.4547\n",
            "Epoch 4/20\n",
            "\u001b[1m64/64\u001b[0m \u001b[32m━━━━━━━━━━━━━━━━━━━━\u001b[0m\u001b[37m\u001b[0m \u001b[1m483s\u001b[0m 7s/step - accuracy: 0.7088 - loss: 0.5643 - val_accuracy: 0.8074 - val_loss: 0.4706\n",
            "Epoch 5/20\n",
            "\u001b[1m64/64\u001b[0m \u001b[32m━━━━━━━━━━━━━━━━━━━━\u001b[0m\u001b[37m\u001b[0m \u001b[1m458s\u001b[0m 7s/step - accuracy: 0.7248 - loss: 0.5370 - val_accuracy: 0.8132 - val_loss: 0.4747\n",
            "Epoch 6/20\n",
            "\u001b[1m64/64\u001b[0m \u001b[32m━━━━━━━━━━━━━━━━━━━━\u001b[0m\u001b[37m\u001b[0m \u001b[1m424s\u001b[0m 6s/step - accuracy: 0.7574 - loss: 0.5010 - val_accuracy: 0.7899 - val_loss: 0.4998\n",
            "Epoch 7/20\n",
            "\u001b[1m64/64\u001b[0m \u001b[32m━━━━━━━━━━━━━━━━━━━━\u001b[0m\u001b[37m\u001b[0m \u001b[1m431s\u001b[0m 7s/step - accuracy: 0.7671 - loss: 0.4867 - val_accuracy: 0.7840 - val_loss: 0.5045\n",
            "Epoch 8/20\n",
            "\u001b[1m64/64\u001b[0m \u001b[32m━━━━━━━━━━━━━━━━━━━━\u001b[0m\u001b[37m\u001b[0m \u001b[1m446s\u001b[0m 7s/step - accuracy: 0.7990 - loss: 0.4526 - val_accuracy: 0.7802 - val_loss: 0.5089\n",
            "Epoch 9/20\n",
            "\u001b[1m64/64\u001b[0m \u001b[32m━━━━━━━━━━━━━━━━━━━━\u001b[0m\u001b[37m\u001b[0m \u001b[1m432s\u001b[0m 7s/step - accuracy: 0.7982 - loss: 0.4308 - val_accuracy: 0.7860 - val_loss: 0.5118\n",
            "Epoch 10/20\n",
            "\u001b[1m64/64\u001b[0m \u001b[32m━━━━━━━━━━━━━━━━━━━━\u001b[0m\u001b[37m\u001b[0m \u001b[1m425s\u001b[0m 6s/step - accuracy: 0.7965 - loss: 0.4238 - val_accuracy: 0.7665 - val_loss: 0.5361\n",
            "Epoch 11/20\n",
            "\u001b[1m64/64\u001b[0m \u001b[32m━━━━━━━━━━━━━━━━━━━━\u001b[0m\u001b[37m\u001b[0m \u001b[1m474s\u001b[0m 7s/step - accuracy: 0.8275 - loss: 0.3825 - val_accuracy: 0.7607 - val_loss: 0.5373\n",
            "Epoch 12/20\n",
            "\u001b[1m64/64\u001b[0m \u001b[32m━━━━━━━━━━━━━━━━━━━━\u001b[0m\u001b[37m\u001b[0m \u001b[1m472s\u001b[0m 7s/step - accuracy: 0.8315 - loss: 0.3881 - val_accuracy: 0.7529 - val_loss: 0.5502\n",
            "Epoch 13/20\n",
            "\u001b[1m64/64\u001b[0m \u001b[32m━━━━━━━━━━━━━━━━━━━━\u001b[0m\u001b[37m\u001b[0m \u001b[1m423s\u001b[0m 6s/step - accuracy: 0.8456 - loss: 0.3541 - val_accuracy: 0.7412 - val_loss: 0.5950\n",
            "Epoch 14/20\n",
            "\u001b[1m64/64\u001b[0m \u001b[32m━━━━━━━━━━━━━━━━━━━━\u001b[0m\u001b[37m\u001b[0m \u001b[1m460s\u001b[0m 7s/step - accuracy: 0.8648 - loss: 0.3169 - val_accuracy: 0.7412 - val_loss: 0.6343\n",
            "Epoch 15/20\n",
            "\u001b[1m64/64\u001b[0m \u001b[32m━━━━━━━━━━━━━━━━━━━━\u001b[0m\u001b[37m\u001b[0m \u001b[1m423s\u001b[0m 6s/step - accuracy: 0.8758 - loss: 0.3119 - val_accuracy: 0.7432 - val_loss: 0.6773\n",
            "Epoch 16/20\n",
            "\u001b[1m64/64\u001b[0m \u001b[32m━━━━━━━━━━━━━━━━━━━━\u001b[0m\u001b[37m\u001b[0m \u001b[1m462s\u001b[0m 7s/step - accuracy: 0.8776 - loss: 0.3040 - val_accuracy: 0.7374 - val_loss: 0.6894\n",
            "Epoch 17/20\n",
            "\u001b[1m64/64\u001b[0m \u001b[32m━━━━━━━━━━━━━━━━━━━━\u001b[0m\u001b[37m\u001b[0m \u001b[1m440s\u001b[0m 7s/step - accuracy: 0.8764 - loss: 0.2995 - val_accuracy: 0.7568 - val_loss: 0.6215\n",
            "Epoch 18/20\n",
            "\u001b[1m64/64\u001b[0m \u001b[32m━━━━━━━━━━━━━━━━━━━━\u001b[0m\u001b[37m\u001b[0m \u001b[1m420s\u001b[0m 6s/step - accuracy: 0.8826 - loss: 0.2884 - val_accuracy: 0.7607 - val_loss: 0.6212\n",
            "Epoch 19/20\n",
            "\u001b[1m64/64\u001b[0m \u001b[32m━━━━━━━━━━━━━━━━━━━━\u001b[0m\u001b[37m\u001b[0m \u001b[1m416s\u001b[0m 6s/step - accuracy: 0.8982 - loss: 0.2556 - val_accuracy: 0.7665 - val_loss: 0.6524\n",
            "Epoch 20/20\n",
            "\u001b[1m64/64\u001b[0m \u001b[32m━━━━━━━━━━━━━━━━━━━━\u001b[0m\u001b[37m\u001b[0m \u001b[1m0s\u001b[0m 7s/step - accuracy: 0.9112 - loss: 0.2403\n",
            "Reached 90.0% accuracy, stopping training!\n",
            "\u001b[1m64/64\u001b[0m \u001b[32m━━━━━━━━━━━━━━━━━━━━\u001b[0m\u001b[37m\u001b[0m \u001b[1m507s\u001b[0m 7s/step - accuracy: 0.9111 - loss: 0.2404 - val_accuracy: 0.7588 - val_loss: 0.6397\n"
          ]
        }
      ]
    },
    {
      "cell_type": "markdown",
      "source": [
        "**Review the learning curves**"
      ],
      "metadata": {
        "id": "EMfzfWuXD9Za"
      }
    },
    {
      "cell_type": "code",
      "source": [
        "acc = history_fine.history['accuracy']\n",
        "val_acc = history_fine.history['val_accuracy']\n",
        "\n",
        "loss = history_fine.history['loss']\n",
        "val_loss = history_fine.history['val_loss']\n",
        "\n",
        "plt.figure(figsize=(8, 8))\n",
        "plt.subplot(2, 1, 1)\n",
        "plt.plot(acc, label='Training Accuracy')\n",
        "plt.plot(val_acc, label='Validation Accuracy')\n",
        "plt.legend(loc='lower right')\n",
        "plt.ylabel('Accuracy')\n",
        "plt.ylim([min(plt.ylim()),1])\n",
        "plt.title('Training and Validation Accuracy')\n",
        "\n",
        "plt.subplot(2, 1, 2)\n",
        "plt.plot(loss, label='Training Loss')\n",
        "plt.plot(val_loss, label='Validation Loss')\n",
        "plt.legend(loc='upper right')\n",
        "plt.ylabel('Cross Entropy')\n",
        "plt.ylim([0,1.0])\n",
        "plt.title('Training and Validation Loss')\n",
        "plt.xlabel('epoch')\n",
        "plt.show()"
      ],
      "metadata": {
        "colab": {
          "base_uri": "https://localhost:8080/",
          "height": 718
        },
        "id": "okACmo2MjpYt",
        "outputId": "00f8139c-a8a0-4099-f4a9-f74e44e46455"
      },
      "execution_count": 24,
      "outputs": [
        {
          "output_type": "display_data",
          "data": {
            "text/plain": [
              "<Figure size 800x800 with 2 Axes>"
            ],
            "image/png": "[encoded data removed]"
          },
          "metadata": {}
        }
      ]
    },
    {
      "cell_type": "markdown",
      "source": [
        "# **Save Model**"
      ],
      "metadata": {
        "id": "1xSVQ00kERAn"
      }
    },
    {
      "cell_type": "code",
      "source": [
        "MODEL_BASE_PATH = \"/content/drive/MyDrive/\"\n",
        "PROJECT_NAME = \"model_project\"\n",
        "SAVE_MODEL_NAME = \"anemalyze_model.h5\"\n",
        "save_model_path = os.path.join(MODEL_BASE_PATH, PROJECT_NAME, SAVE_MODEL_NAME)\n",
        "\n",
        "if os.path.exists(os.path.join(MODEL_BASE_PATH, PROJECT_NAME)) == False:\n",
        "    os.makedirs(os.path.join(MODEL_BASE_PATH, PROJECT_NAME))\n",
        "\n",
        "print('Saving Model At {}...'.format(save_model_path))\n",
        "model.save(save_model_path,include_optimizer=False)"
      ],
      "metadata": {
        "colab": {
          "base_uri": "https://localhost:8080/"
        },
        "id": "if0QKxGPkvSi",
        "outputId": "ab21ad2d-efe8-4683-e01d-deb0d135914a"
      },
      "execution_count": 25,
      "outputs": [
        {
          "output_type": "stream",
          "name": "stderr",
          "text": [
            "WARNING:absl:You are saving your model as an HDF5 file via `model.save()` or `keras.saving.save_model(model)`. This file format is considered legacy. We recommend using instead the native Keras format, e.g. `model.save('my_model.keras')` or `keras.saving.save_model(model, 'my_model.keras')`. \n"
          ]
        },
        {
          "output_type": "stream",
          "name": "stdout",
          "text": [
            "Saving Model At /content/drive/MyDrive/model_project/anemalyze_model.h5...\n"
          ]
        }
      ]
    },
    {
      "cell_type": "markdown",
      "source": [
        "# **Convert to TFLite**"
      ],
      "metadata": {
        "id": "ODPZsjVWEY5z"
      }
    },
    {
      "cell_type": "code",
      "source": [
        "# A generator that provides a representative dataset\n",
        "def representative_data_gen():\n",
        "  dataset_path = \"/content/drive/MyDrive/conjuctiva224\"\n",
        "  dataset_list = tf.data.Dataset.list_files(dataset_path+ '/*/*')\n",
        "  for i in range(100):\n",
        "    image = next(iter(dataset_list))\n",
        "    image = tf.io.read_file(image)\n",
        "    image = tf.io.decode_jpeg(image, channels=3)\n",
        "    image = tf.image.resize(image, [224, 224])\n",
        "    image = tf.cast(image / 255., tf.float32)\n",
        "    image = tf.expand_dims(image, 0)\n",
        "    yield [image]\n",
        "\n",
        "converter = tf.lite.TFLiteConverter.from_keras_model(model)\n",
        "# This enables quantization\n",
        "converter.optimizations = [tf.lite.Optimize.DEFAULT]\n",
        "# This sets the representative dataset for quantization\n",
        "converter.representative_dataset = representative_data_gen\n",
        "# This ensures that if any ops can't be quantized, the converter throws an error\n",
        "converter.target_spec.supported_ops = [tf.lite.OpsSet.TFLITE_BUILTINS_INT8]\n",
        "# For full integer quantization, though supported types defaults to int8 only, we explicitly declare it for clarity.\n",
        "converter.target_spec.supported_types = [tf.int8]\n",
        "# These set the input and output tensors to uint8 (added in r2.3)\n",
        "converter.inference_input_type = tf.uint8\n",
        "converter.inference_output_type = tf.uint8\n",
        "tflite_model = converter.convert()\n",
        "\n",
        "with open('/content/drive/MyDrive/model_project/anemalyze_quant.tflite', 'wb') as f:\n",
        "  f.write(tflite_model)"
      ],
      "metadata": {
        "colab": {
          "base_uri": "https://localhost:8080/"
        },
        "id": "iui4F-T8ope0",
        "outputId": "59f35799-34e0-4fdd-fa6e-27b080aa8c15"
      },
      "execution_count": 38,
      "outputs": [
        {
          "output_type": "stream",
          "name": "stdout",
          "text": [
            "Saved artifact at '/tmp/tmpahfebzru'. The following endpoints are available:\n",
            "\n",
            "* Endpoint 'serve'\n",
            "  args_0 (POSITIONAL_ONLY): TensorSpec(shape=(None, 224, 224, 3), dtype=tf.float32, name='keras_tensor_164')\n",
            "Output Type:\n",
            "  TensorSpec(shape=(None, 1), dtype=tf.float32, name=None)\n",
            "Captures:\n",
            "  138218262446672: TensorSpec(shape=(), dtype=tf.resource, name=None)\n",
            "  138218159642000: TensorSpec(shape=(), dtype=tf.resource, name=None)\n",
            "  138218159638304: TensorSpec(shape=(), dtype=tf.resource, name=None)\n",
            "  138218159640240: TensorSpec(shape=(), dtype=tf.resource, name=None)\n",
            "  138218159641120: TensorSpec(shape=(), dtype=tf.resource, name=None)\n",
            "  138218159647984: TensorSpec(shape=(), dtype=tf.resource, name=None)\n",
            "  138218159646928: TensorSpec(shape=(), dtype=tf.resource, name=None)\n",
            "  138218159649392: TensorSpec(shape=(), dtype=tf.resource, name=None)\n",
            "  138218159639712: TensorSpec(shape=(), dtype=tf.resource, name=None)\n",
            "  138218159648160: TensorSpec(shape=(), dtype=tf.resource, name=None)\n",
            "  138218570841456: TensorSpec(shape=(), dtype=tf.resource, name=None)\n",
            "  138218159836320: TensorSpec(shape=(), dtype=tf.resource, name=None)\n",
            "  138218159833856: TensorSpec(shape=(), dtype=tf.resource, name=None)\n",
            "  138218159835968: TensorSpec(shape=(), dtype=tf.resource, name=None)\n",
            "  138218159836496: TensorSpec(shape=(), dtype=tf.resource, name=None)\n",
            "  138218159643760: TensorSpec(shape=(), dtype=tf.resource, name=None)\n",
            "  138218159841072: TensorSpec(shape=(), dtype=tf.resource, name=None)\n",
            "  138218159843536: TensorSpec(shape=(), dtype=tf.resource, name=None)\n",
            "  138218159839664: TensorSpec(shape=(), dtype=tf.resource, name=None)\n",
            "  138218159842304: TensorSpec(shape=(), dtype=tf.resource, name=None)\n",
            "  138218159847584: TensorSpec(shape=(), dtype=tf.resource, name=None)\n",
            "  138218157822848: TensorSpec(shape=(), dtype=tf.resource, name=None)\n",
            "  138220698198688: TensorSpec(shape=(), dtype=tf.resource, name=None)\n",
            "  138218159849168: TensorSpec(shape=(), dtype=tf.resource, name=None)\n",
            "  138218157820560: TensorSpec(shape=(), dtype=tf.resource, name=None)\n",
            "  138218157832880: TensorSpec(shape=(), dtype=tf.resource, name=None)\n",
            "  138218157886976: TensorSpec(shape=(), dtype=tf.resource, name=None)\n",
            "  138218157884864: TensorSpec(shape=(), dtype=tf.resource, name=None)\n",
            "  138218157832000: TensorSpec(shape=(), dtype=tf.resource, name=None)\n",
            "  138218157885920: TensorSpec(shape=(), dtype=tf.resource, name=None)\n",
            "  138218157832528: TensorSpec(shape=(), dtype=tf.resource, name=None)\n",
            "  138218157891200: TensorSpec(shape=(), dtype=tf.resource, name=None)\n",
            "  138218157893664: TensorSpec(shape=(), dtype=tf.resource, name=None)\n",
            "  138218157889792: TensorSpec(shape=(), dtype=tf.resource, name=None)\n",
            "  138218157892432: TensorSpec(shape=(), dtype=tf.resource, name=None)\n",
            "  138218157896480: TensorSpec(shape=(), dtype=tf.resource, name=None)\n",
            "  138218157896128: TensorSpec(shape=(), dtype=tf.resource, name=None)\n",
            "  138218157895776: TensorSpec(shape=(), dtype=tf.resource, name=None)\n",
            "  138218157897536: TensorSpec(shape=(), dtype=tf.resource, name=None)\n",
            "  138218157999024: TensorSpec(shape=(), dtype=tf.resource, name=None)\n",
            "  138218157895248: TensorSpec(shape=(), dtype=tf.resource, name=None)\n",
            "  138218158006240: TensorSpec(shape=(), dtype=tf.resource, name=None)\n",
            "  138218158007296: TensorSpec(shape=(), dtype=tf.resource, name=None)\n",
            "  138218158003424: TensorSpec(shape=(), dtype=tf.resource, name=None)\n",
            "  138218158006064: TensorSpec(shape=(), dtype=tf.resource, name=None)\n",
            "  138218157832704: TensorSpec(shape=(), dtype=tf.resource, name=None)\n",
            "  138218158012224: TensorSpec(shape=(), dtype=tf.resource, name=None)\n",
            "  138218158008704: TensorSpec(shape=(), dtype=tf.resource, name=None)\n",
            "  138218158010816: TensorSpec(shape=(), dtype=tf.resource, name=None)\n",
            "  138218158013456: TensorSpec(shape=(), dtype=tf.resource, name=None)\n",
            "  138218158011168: TensorSpec(shape=(), dtype=tf.resource, name=None)\n",
            "  138218158070368: TensorSpec(shape=(), dtype=tf.resource, name=None)\n",
            "  138218158073008: TensorSpec(shape=(), dtype=tf.resource, name=None)\n",
            "  138218158068960: TensorSpec(shape=(), dtype=tf.resource, name=None)\n",
            "  138218158070896: TensorSpec(shape=(), dtype=tf.resource, name=None)\n",
            "  138218158079168: TensorSpec(shape=(), dtype=tf.resource, name=None)\n",
            "  138218158069312: TensorSpec(shape=(), dtype=tf.resource, name=None)\n",
            "  138218158074592: TensorSpec(shape=(), dtype=tf.resource, name=None)\n",
            "  138218158076352: TensorSpec(shape=(), dtype=tf.resource, name=None)\n",
            "  138218158077936: TensorSpec(shape=(), dtype=tf.resource, name=None)\n",
            "  138218157895424: TensorSpec(shape=(), dtype=tf.resource, name=None)\n",
            "  138218158184176: TensorSpec(shape=(), dtype=tf.resource, name=None)\n",
            "  138218158185232: TensorSpec(shape=(), dtype=tf.resource, name=None)\n",
            "  138218158181360: TensorSpec(shape=(), dtype=tf.resource, name=None)\n",
            "  138218158184000: TensorSpec(shape=(), dtype=tf.resource, name=None)\n",
            "  138218158191216: TensorSpec(shape=(), dtype=tf.resource, name=None)\n",
            "  138218158190160: TensorSpec(shape=(), dtype=tf.resource, name=None)\n",
            "  138218158192800: TensorSpec(shape=(), dtype=tf.resource, name=None)\n",
            "  138218158181712: TensorSpec(shape=(), dtype=tf.resource, name=None)\n",
            "  138218158190688: TensorSpec(shape=(), dtype=tf.resource, name=None)\n",
            "  138218158186816: TensorSpec(shape=(), dtype=tf.resource, name=None)\n",
            "  138218158232272: TensorSpec(shape=(), dtype=tf.resource, name=None)\n",
            "  138218158233328: TensorSpec(shape=(), dtype=tf.resource, name=None)\n",
            "  138218158229456: TensorSpec(shape=(), dtype=tf.resource, name=None)\n",
            "  138218158232096: TensorSpec(shape=(), dtype=tf.resource, name=None)\n",
            "  138218158067200: TensorSpec(shape=(), dtype=tf.resource, name=None)\n",
            "  138218158238432: TensorSpec(shape=(), dtype=tf.resource, name=None)\n",
            "  138218158240896: TensorSpec(shape=(), dtype=tf.resource, name=None)\n",
            "  138218158237024: TensorSpec(shape=(), dtype=tf.resource, name=None)\n",
            "  138218158239664: TensorSpec(shape=(), dtype=tf.resource, name=None)\n",
            "  138218158237376: TensorSpec(shape=(), dtype=tf.resource, name=None)\n",
            "  138218158311376: TensorSpec(shape=(), dtype=tf.resource, name=None)\n",
            "  138218158313664: TensorSpec(shape=(), dtype=tf.resource, name=None)\n",
            "  138218158309616: TensorSpec(shape=(), dtype=tf.resource, name=None)\n",
            "  138218158313136: TensorSpec(shape=(), dtype=tf.resource, name=None)\n",
            "  138218158242480: TensorSpec(shape=(), dtype=tf.resource, name=None)\n",
            "  138218158319296: TensorSpec(shape=(), dtype=tf.resource, name=None)\n",
            "  138218158321760: TensorSpec(shape=(), dtype=tf.resource, name=None)\n",
            "  138218158317888: TensorSpec(shape=(), dtype=tf.resource, name=None)\n",
            "  138218158320528: TensorSpec(shape=(), dtype=tf.resource, name=None)\n",
            "  138218158310320: TensorSpec(shape=(), dtype=tf.resource, name=None)\n",
            "  138218158394000: TensorSpec(shape=(), dtype=tf.resource, name=None)\n",
            "  138218158392064: TensorSpec(shape=(), dtype=tf.resource, name=None)\n",
            "  138218158394352: TensorSpec(shape=(), dtype=tf.resource, name=None)\n",
            "  138218158394176: TensorSpec(shape=(), dtype=tf.resource, name=None)\n",
            "  138218158402448: TensorSpec(shape=(), dtype=tf.resource, name=None)\n",
            "  138218158401392: TensorSpec(shape=(), dtype=tf.resource, name=None)\n",
            "  138218158404032: TensorSpec(shape=(), dtype=tf.resource, name=None)\n",
            "  138218158391360: TensorSpec(shape=(), dtype=tf.resource, name=None)\n",
            "  138218158401920: TensorSpec(shape=(), dtype=tf.resource, name=None)\n",
            "  138218158407024: TensorSpec(shape=(), dtype=tf.resource, name=None)\n",
            "  138218158459888: TensorSpec(shape=(), dtype=tf.resource, name=None)\n",
            "  138218158457952: TensorSpec(shape=(), dtype=tf.resource, name=None)\n",
            "  138218158460416: TensorSpec(shape=(), dtype=tf.resource, name=None)\n",
            "  138218158460064: TensorSpec(shape=(), dtype=tf.resource, name=None)\n",
            "  138218158242656: TensorSpec(shape=(), dtype=tf.resource, name=None)\n",
            "  138218158464640: TensorSpec(shape=(), dtype=tf.resource, name=None)\n",
            "  138218158467104: TensorSpec(shape=(), dtype=tf.resource, name=None)\n",
            "  138218158463232: TensorSpec(shape=(), dtype=tf.resource, name=None)\n",
            "  138218158465872: TensorSpec(shape=(), dtype=tf.resource, name=None)\n",
            "  138218158469920: TensorSpec(shape=(), dtype=tf.resource, name=None)\n",
            "  138218157822672: TensorSpec(shape=(), dtype=tf.resource, name=None)\n",
            "  138218212339456: TensorSpec(shape=(), dtype=tf.resource, name=None)\n",
            "  138218212059696: TensorSpec(shape=(), dtype=tf.resource, name=None)\n",
            "  138218157824432: TensorSpec(shape=(), dtype=tf.resource, name=None)\n",
            "  138218158472912: TensorSpec(shape=(), dtype=tf.resource, name=None)\n",
            "  138218212060752: TensorSpec(shape=(), dtype=tf.resource, name=None)\n",
            "  138218158458480: TensorSpec(shape=(), dtype=tf.resource, name=None)\n",
            "  138218158467808: TensorSpec(shape=(), dtype=tf.resource, name=None)\n",
            "  138218158467632: TensorSpec(shape=(), dtype=tf.resource, name=None)\n",
            "  138218157826192: TensorSpec(shape=(), dtype=tf.resource, name=None)\n",
            "  138218158530176: TensorSpec(shape=(), dtype=tf.resource, name=None)\n",
            "  138218158531232: TensorSpec(shape=(), dtype=tf.resource, name=None)\n",
            "  138218158527360: TensorSpec(shape=(), dtype=tf.resource, name=None)\n",
            "  138218158530000: TensorSpec(shape=(), dtype=tf.resource, name=None)\n",
            "  138218158537216: TensorSpec(shape=(), dtype=tf.resource, name=None)\n",
            "  138218158536160: TensorSpec(shape=(), dtype=tf.resource, name=None)\n",
            "  138218158533344: TensorSpec(shape=(), dtype=tf.resource, name=None)\n",
            "  138218158527712: TensorSpec(shape=(), dtype=tf.resource, name=None)\n",
            "  138218158536688: TensorSpec(shape=(), dtype=tf.resource, name=None)\n",
            "  138218158532816: TensorSpec(shape=(), dtype=tf.resource, name=None)\n",
            "  138218158660192: TensorSpec(shape=(), dtype=tf.resource, name=None)\n",
            "  138218158661248: TensorSpec(shape=(), dtype=tf.resource, name=None)\n",
            "  138218158657376: TensorSpec(shape=(), dtype=tf.resource, name=None)\n",
            "  138218158660016: TensorSpec(shape=(), dtype=tf.resource, name=None)\n",
            "  138218158468864: TensorSpec(shape=(), dtype=tf.resource, name=None)\n",
            "  138218158666352: TensorSpec(shape=(), dtype=tf.resource, name=None)\n",
            "  138218158668816: TensorSpec(shape=(), dtype=tf.resource, name=None)\n",
            "  138218158664944: TensorSpec(shape=(), dtype=tf.resource, name=None)\n",
            "  138218158667584: TensorSpec(shape=(), dtype=tf.resource, name=None)\n",
            "  138218158665296: TensorSpec(shape=(), dtype=tf.resource, name=None)\n",
            "  138218158755856: TensorSpec(shape=(), dtype=tf.resource, name=None)\n",
            "  138218158758496: TensorSpec(shape=(), dtype=tf.resource, name=None)\n",
            "  138218158754448: TensorSpec(shape=(), dtype=tf.resource, name=None)\n",
            "  138218158756384: TensorSpec(shape=(), dtype=tf.resource, name=None)\n",
            "  138218158764656: TensorSpec(shape=(), dtype=tf.resource, name=None)\n",
            "  138218158763600: TensorSpec(shape=(), dtype=tf.resource, name=None)\n",
            "  138218158766064: TensorSpec(shape=(), dtype=tf.resource, name=None)\n",
            "  138218158752512: TensorSpec(shape=(), dtype=tf.resource, name=None)\n",
            "  138218158764832: TensorSpec(shape=(), dtype=tf.resource, name=None)\n",
            "  138218158532992: TensorSpec(shape=(), dtype=tf.resource, name=None)\n",
            "  138218158821920: TensorSpec(shape=(), dtype=tf.resource, name=None)\n",
            "  138218158821568: TensorSpec(shape=(), dtype=tf.resource, name=None)\n",
            "  138218158819104: TensorSpec(shape=(), dtype=tf.resource, name=None)\n",
            "  138218158821744: TensorSpec(shape=(), dtype=tf.resource, name=None)\n",
            "  138218158828960: TensorSpec(shape=(), dtype=tf.resource, name=None)\n",
            "  138218158827904: TensorSpec(shape=(), dtype=tf.resource, name=None)\n",
            "  138218158830544: TensorSpec(shape=(), dtype=tf.resource, name=None)\n",
            "  138218158819456: TensorSpec(shape=(), dtype=tf.resource, name=None)\n",
            "  138218158828432: TensorSpec(shape=(), dtype=tf.resource, name=None)\n",
            "  138218158824560: TensorSpec(shape=(), dtype=tf.resource, name=None)\n",
            "  138218156822016: TensorSpec(shape=(), dtype=tf.resource, name=None)\n",
            "  138218156819552: TensorSpec(shape=(), dtype=tf.resource, name=None)\n",
            "  138218156818672: TensorSpec(shape=(), dtype=tf.resource, name=None)\n",
            "  138218156822192: TensorSpec(shape=(), dtype=tf.resource, name=None)\n",
            "  138218158752688: TensorSpec(shape=(), dtype=tf.resource, name=None)\n",
            "  138218156826768: TensorSpec(shape=(), dtype=tf.resource, name=None)\n",
            "  138218156829232: TensorSpec(shape=(), dtype=tf.resource, name=None)\n",
            "  138218156825360: TensorSpec(shape=(), dtype=tf.resource, name=None)\n",
            "  138218156828000: TensorSpec(shape=(), dtype=tf.resource, name=None)\n",
            "  138218156832048: TensorSpec(shape=(), dtype=tf.resource, name=None)\n",
            "  138218156831696: TensorSpec(shape=(), dtype=tf.resource, name=None)\n",
            "  138218156831872: TensorSpec(shape=(), dtype=tf.resource, name=None)\n",
            "  138218156833104: TensorSpec(shape=(), dtype=tf.resource, name=None)\n",
            "  138218156900944: TensorSpec(shape=(), dtype=tf.resource, name=None)\n",
            "  138218156830816: TensorSpec(shape=(), dtype=tf.resource, name=None)\n",
            "  138218156909040: TensorSpec(shape=(), dtype=tf.resource, name=None)\n",
            "  138218156910096: TensorSpec(shape=(), dtype=tf.resource, name=None)\n",
            "  138218156906224: TensorSpec(shape=(), dtype=tf.resource, name=None)\n",
            "  138218156908864: TensorSpec(shape=(), dtype=tf.resource, name=None)\n",
            "  138218158824736: TensorSpec(shape=(), dtype=tf.resource, name=None)\n",
            "  138218156906576: TensorSpec(shape=(), dtype=tf.resource, name=None)\n",
            "  138218156911680: TensorSpec(shape=(), dtype=tf.resource, name=None)\n",
            "  138218156913440: TensorSpec(shape=(), dtype=tf.resource, name=None)\n",
            "  138218156912208: TensorSpec(shape=(), dtype=tf.resource, name=None)\n",
            "  138218156915376: TensorSpec(shape=(), dtype=tf.resource, name=None)\n",
            "  138218156988320: TensorSpec(shape=(), dtype=tf.resource, name=None)\n",
            "  138218156990960: TensorSpec(shape=(), dtype=tf.resource, name=None)\n",
            "  138218156986912: TensorSpec(shape=(), dtype=tf.resource, name=None)\n",
            "  138218156988848: TensorSpec(shape=(), dtype=tf.resource, name=None)\n",
            "  138218156997120: TensorSpec(shape=(), dtype=tf.resource, name=None)\n",
            "  138218156996064: TensorSpec(shape=(), dtype=tf.resource, name=None)\n",
            "  138218156992544: TensorSpec(shape=(), dtype=tf.resource, name=None)\n",
            "  138218156984976: TensorSpec(shape=(), dtype=tf.resource, name=None)\n",
            "  138218156997296: TensorSpec(shape=(), dtype=tf.resource, name=None)\n",
            "  138218156830992: TensorSpec(shape=(), dtype=tf.resource, name=None)\n",
            "  138218157087152: TensorSpec(shape=(), dtype=tf.resource, name=None)\n",
            "  138218157088208: TensorSpec(shape=(), dtype=tf.resource, name=None)\n",
            "  138218157084336: TensorSpec(shape=(), dtype=tf.resource, name=None)\n",
            "  138218157086976: TensorSpec(shape=(), dtype=tf.resource, name=None)\n",
            "  138218157095600: TensorSpec(shape=(), dtype=tf.resource, name=None)\n",
            "  138218157094544: TensorSpec(shape=(), dtype=tf.resource, name=None)\n",
            "  138218157091728: TensorSpec(shape=(), dtype=tf.resource, name=None)\n",
            "  138218157084688: TensorSpec(shape=(), dtype=tf.resource, name=None)\n",
            "  138218157095072: TensorSpec(shape=(), dtype=tf.resource, name=None)\n",
            "  138218157091200: TensorSpec(shape=(), dtype=tf.resource, name=None)\n",
            "  138218157153040: TensorSpec(shape=(), dtype=tf.resource, name=None)\n",
            "  138218157154096: TensorSpec(shape=(), dtype=tf.resource, name=None)\n",
            "  138218157150224: TensorSpec(shape=(), dtype=tf.resource, name=None)\n",
            "  138218157152864: TensorSpec(shape=(), dtype=tf.resource, name=None)\n",
            "  138218156985152: TensorSpec(shape=(), dtype=tf.resource, name=None)\n",
            "  138218157157792: TensorSpec(shape=(), dtype=tf.resource, name=None)\n",
            "  138218157160256: TensorSpec(shape=(), dtype=tf.resource, name=None)\n",
            "  138218157156384: TensorSpec(shape=(), dtype=tf.resource, name=None)\n",
            "  138218157159024: TensorSpec(shape=(), dtype=tf.resource, name=None)\n",
            "  138218157156736: TensorSpec(shape=(), dtype=tf.resource, name=None)\n",
            "  138218157214704: TensorSpec(shape=(), dtype=tf.resource, name=None)\n",
            "  138218157217168: TensorSpec(shape=(), dtype=tf.resource, name=None)\n",
            "  138218157212592: TensorSpec(shape=(), dtype=tf.resource, name=None)\n",
            "  138218157216112: TensorSpec(shape=(), dtype=tf.resource, name=None)\n",
            "  138218157161840: TensorSpec(shape=(), dtype=tf.resource, name=None)\n",
            "  138218157222272: TensorSpec(shape=(), dtype=tf.resource, name=None)\n",
            "  138218157224736: TensorSpec(shape=(), dtype=tf.resource, name=None)\n",
            "  138218157220864: TensorSpec(shape=(), dtype=tf.resource, name=None)\n",
            "  138218157223504: TensorSpec(shape=(), dtype=tf.resource, name=None)\n",
            "  138218157213296: TensorSpec(shape=(), dtype=tf.resource, name=None)\n",
            "  138218157329744: TensorSpec(shape=(), dtype=tf.resource, name=None)\n",
            "  138218157327280: TensorSpec(shape=(), dtype=tf.resource, name=None)\n",
            "  138218157326400: TensorSpec(shape=(), dtype=tf.resource, name=None)\n",
            "  138218157329920: TensorSpec(shape=(), dtype=tf.resource, name=None)\n",
            "  138218157336784: TensorSpec(shape=(), dtype=tf.resource, name=None)\n",
            "  138218157335728: TensorSpec(shape=(), dtype=tf.resource, name=None)\n",
            "  138218157338368: TensorSpec(shape=(), dtype=tf.resource, name=None)\n",
            "  138218157326576: TensorSpec(shape=(), dtype=tf.resource, name=None)\n",
            "  138218157336256: TensorSpec(shape=(), dtype=tf.resource, name=None)\n",
            "  138218157341360: TensorSpec(shape=(), dtype=tf.resource, name=None)\n",
            "  138218157377840: TensorSpec(shape=(), dtype=tf.resource, name=None)\n",
            "  138218157375904: TensorSpec(shape=(), dtype=tf.resource, name=None)\n",
            "  138218157340480: TensorSpec(shape=(), dtype=tf.resource, name=None)\n",
            "  138218157378016: TensorSpec(shape=(), dtype=tf.resource, name=None)\n",
            "  138218157386640: TensorSpec(shape=(), dtype=tf.resource, name=None)\n",
            "  138218157492176: TensorSpec(shape=(), dtype=tf.resource, name=None)\n",
            "  138218157494288: TensorSpec(shape=(), dtype=tf.resource, name=None)\n",
            "  138218157390688: TensorSpec(shape=(), dtype=tf.resource, name=None)\n",
            "  138218157383472: TensorSpec(shape=(), dtype=tf.resource, name=None)\n",
            "  138218157500624: TensorSpec(shape=(), dtype=tf.resource, name=None)\n",
            "  138218157499568: TensorSpec(shape=(), dtype=tf.resource, name=None)\n",
            "  138218157502208: TensorSpec(shape=(), dtype=tf.resource, name=None)\n",
            "  138218157491472: TensorSpec(shape=(), dtype=tf.resource, name=None)\n",
            "  138218157500096: TensorSpec(shape=(), dtype=tf.resource, name=None)\n",
            "  138218157505200: TensorSpec(shape=(), dtype=tf.resource, name=None)\n",
            "  138218157574448: TensorSpec(shape=(), dtype=tf.resource, name=None)\n",
            "  138218157506080: TensorSpec(shape=(), dtype=tf.resource, name=None)\n",
            "  138218157504320: TensorSpec(shape=(), dtype=tf.resource, name=None)\n",
            "  138218157574624: TensorSpec(shape=(), dtype=tf.resource, name=None)\n",
            "  138220681737520: TensorSpec(shape=(), dtype=tf.resource, name=None)\n",
            "  138218159847056: TensorSpec(shape=(), dtype=tf.resource, name=None)\n",
            "  138218157384704: TensorSpec(shape=(), dtype=tf.resource, name=None)\n",
            "  138218157821616: TensorSpec(shape=(), dtype=tf.resource, name=None)\n",
            "  138218212060400: TensorSpec(shape=(), dtype=tf.resource, name=None)\n",
            "  138217844288752: TensorSpec(shape=(), dtype=tf.resource, name=None)\n",
            "  138217844289632: TensorSpec(shape=(), dtype=tf.resource, name=None)\n",
            "  138217844290688: TensorSpec(shape=(), dtype=tf.resource, name=None)\n",
            "  138217844291216: TensorSpec(shape=(), dtype=tf.resource, name=None)\n",
            "  138217844292976: TensorSpec(shape=(), dtype=tf.resource, name=None)\n",
            "  138217809202512: TensorSpec(shape=(), dtype=tf.resource, name=None)\n",
            "  138217844289456: TensorSpec(shape=(), dtype=tf.resource, name=None)\n",
            "  138217809201632: TensorSpec(shape=(), dtype=tf.resource, name=None)\n"
          ]
        }
      ]
    },
    {
      "cell_type": "code",
      "source": [
        "interpreter = tf.lite.Interpreter(model_content=tflite_model)\n",
        "input_type = interpreter.get_input_details()[0]['dtype']\n",
        "print('input: ', input_type)\n",
        "output_type = interpreter.get_output_details()[0]['dtype']\n",
        "print('output: ', output_type)"
      ],
      "metadata": {
        "colab": {
          "base_uri": "https://localhost:8080/"
        },
        "id": "Bdk7ujOb4hGu",
        "outputId": "2f07fb33-9770-4962-ec3f-3ba75f51e435"
      },
      "execution_count": 39,
      "outputs": [
        {
          "output_type": "stream",
          "name": "stdout",
          "text": [
            "input:  <class 'numpy.uint8'>\n",
            "output:  <class 'numpy.uint8'>\n"
          ]
        }
      ]
    },
    {
      "cell_type": "code",
      "source": [
        "# Memuat model TFLite dan melakukan inference\n",
        "interpreter = tf.lite.Interpreter(model_path='/content/drive/MyDrive/model_project/anemalyze_quant.tflite')\n",
        "interpreter.allocate_tensors()\n",
        "\n",
        "# Melakukan inference untuk memastikan model berjalan dengan benar\n",
        "input_details = interpreter.get_input_details()\n",
        "output_details = interpreter.get_output_details()\n",
        "\n",
        "# Get the expected input shape from input_details\n",
        "input_shape = input_details[0]['shape']\n",
        "\n",
        "# Generate random data with the correct shape and data type\n",
        "input_data = np.array(np.random.random_sample(input_shape) * 255, dtype=np.uint8)\n",
        "\n",
        "interpreter.set_tensor(input_details[0]['index'], input_data)\n",
        "interpreter.invoke()\n",
        "\n",
        "output_data = interpreter.get_tensor(output_details[0]['index'])\n",
        "print(output_data)"
      ],
      "metadata": {
        "colab": {
          "base_uri": "https://localhost:8080/"
        },
        "id": "QyeRHO-m_DNq",
        "outputId": "4843ffe8-5d1b-469f-d72d-940de876d5e0"
      },
      "execution_count": 48,
      "outputs": [
        {
          "output_type": "stream",
          "name": "stdout",
          "text": [
            "[[198]]\n"
          ]
        }
      ]
    }
  ]
}